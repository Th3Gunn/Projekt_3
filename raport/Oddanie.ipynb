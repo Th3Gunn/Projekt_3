{
 "cells": [
  {
   "cell_type": "markdown",
   "metadata": {},
   "source": [
    "# TECHNIKI PROGRAMOWANIA - projekt 3\n",
    "### Beniamin Cymanowski 198067\n",
    "\n",
    "Wykorzystane biblioteki:\n",
    "- matplotplusplus (c++)\n"
   ]
  },
  {
   "cell_type": "markdown",
   "metadata": {},
   "source": [
    "# Wizualizacja wykresów 1D & generowanie sygnału\n"
   ]
  },
  {
   "cell_type": "markdown",
   "metadata": {},
   "source": [
    "## Sinus"
   ]
  },
  {
   "cell_type": "code",
   "execution_count": 1,
   "metadata": {},
   "outputs": [],
   "source": [
    "import scikit_build_example as sbe\n",
    "import numpy as np\n",
    "\n",
    "graph = sbe.sine(2.0, 1.0, 1.0, 10000.0, 0.0)\n",
    "\n",
    "sbe.plot(graph, 1.0, 10000.0)\n",
   ]
  },
  {
   "cell_type": "markdown",
   "metadata": {},
   "source": [
    "![Sine plot](sine_plot.png)"
   ]
  },
  {
   "cell_type": "markdown",
   "metadata": {},
   "source": [
    "## Sygnał prostokątny wypełnienie 60%"
   ]
  },
  {
   "cell_type": "code",
   "execution_count": 2,
   "metadata": {},
   "outputs": [],
   "source": [
    "import scikit_build_example as sbe\n",
    "import numpy as np\n",
    "\n",
    "graph = sbe.square(2.0, 0.5, 1.0, 10000.0, 0.5, 60)\n",
    "\n",
    "sbe.plot(graph, 1.0, 10000.0)\n",
   ]
  },
  {
   "cell_type": "markdown",
   "metadata": {},
   "source": [
    "![Pulse wave plot](pulse_wave_plot.png)"
   ]
  },
  {
   "cell_type": "markdown",
   "metadata": {},
   "source": [
    "## Sygnał trójkątny"
   ]
  },
  {
   "cell_type": "code",
   "execution_count": 3,
   "metadata": {},
   "outputs": [],
   "source": [
    "import scikit_build_example as sbe\n",
    "import numpy as np\n",
    "\n",
    "graph = sbe.triangle(2.0, 0.5, 1.0, 10000.0, 0.5)\n",
    "\n",
    "sbe.plot(graph, 1.0, 10000.0)\n",
   ]
  },
  {
   "cell_type": "markdown",
   "metadata": {},
   "source": [
    "![Triangle wave plot](triangle_plot.png)"
   ]
  },
  {
   "cell_type": "markdown",
   "metadata": {},
   "source": [
    "## Sygnał piłozębny"
   ]
  },
  {
   "cell_type": "code",
   "execution_count": 4,
   "metadata": {},
   "outputs": [],
   "source": [
    "import scikit_build_example as sbe\n",
    "import numpy as np\n",
    "\n",
    "graph = sbe.sawtooth(2.0, 0.5, 1.0, 10000.0, 0.5)\n",
    "\n",
    "sbe.plot(graph, 1.0, 10000.0)\n",
   ]
  },
  {
   "cell_type": "markdown",
   "metadata": {},
   "source": [
    "![Sawtooth wave plot](sawtooth_plot.png)"
   ]
  },
  {
   "cell_type": "markdown",
   "metadata": {},
   "source": [
    "## Cosinus"
   ]
  },
  {
   "cell_type": "code",
   "execution_count": 5,
   "metadata": {},
   "outputs": [],
   "source": [
    "import scikit_build_example as sbe\n",
    "import numpy as np\n",
    "\n",
    "graph = sbe.cosine(2.0, 1.0, 1.0, 10000.0, 0.0)\n",
    "\n",
    "sbe.plot(graph, 1.0, 10000.0)\n",
   ]
  },
  {
   "cell_type": "markdown",
   "metadata": {},
   "source": [
    "![Cosine wave plot](cosine_plot.png)"
   ]
  },
  {
   "cell_type": "markdown",
   "metadata": {},
   "source": [
    "# Wizualizacja DFT i IDFT",
    "W celu sprawdzenia poprawności implementacji DFT oraz IDFT wykorzystamy kilka przykładowych przebiegów:\n",
    "- Sinus 40Hz ",
    "- Cosinus 100Hz"
   ]
  },
  {
   "cell_type": "markdown",
   "metadata": {},
   "source": [
    "## Sinus 40hz"
   ]
  },
  {
   "cell_type": "code",
   "execution_count": 6,
   "metadata": {},
   "outputs": [],
   "source": [
    "import scikit_build_example as sbe\n",
    "import numpy as np\n",
    "\n",
    "graph = sbe.sine(40.0, 1.0, 1.0, 10000.0, 0.0)\n",
    "\n",
    "re, im = sbe.dft(graph)\n",
    "sbe.plot_dft(re, im, 10000.0)\n",
    "\n",
    "graph = sbe.idft(re, im)\n",
    "sbe.plot(graph, 1.0, 10000.0)\n",
   ]
  },
  {
   "cell_type": "markdown",
   "metadata": {},
   "source": [
    "![Sin dft](DFT_sin_40hz_plot.png)\n",
    "![Sin idft](IDFT_sin_40hz_plot.png)"
   ]
  },
  {
   "cell_type": "markdown",
   "metadata": {},
   "source": [
    "## Cosine 100hz"
   ]
  },
  {
   "cell_type": "code",
   "execution_count": 7,
   "metadata": {},
   "outputs": [],
   "source": [
    "import scikit_build_example as sbe\n",
    "import numpy as np\n",
    "\n",
    "graph = sbe.cosine(100.0, 1.0, 1.0, 10000.0, 0.0)\n",
    "\n",
    "re, im = sbe.dft(graph)\n",
    "sbe.plot_dft(re, im, 10000.0)\n",
    "\n",
    "graph = sbe.idft(re, im)\n",
    "sbe.plot(graph, 1.0, 10000.0)\n",
   ]
  },
  {
   "cell_type": "markdown",
   "metadata": {},
   "source": [
    "![Cos dft](DFT_cos_100hz_plot.png)\n",
    "![Cos idft](IDFT_cos_100hz_plot.png)"
   ]
  },
  {
   "cell_type": "markdown",
   "metadata": {},
   "source": [
    "# Znajdowanie pików w sygnale\n"
   ]
  },
  {
   "cell_type": "markdown",
   "metadata": {},
   "source": [
    "## Sinus"
   ]
  },
  {
   "cell_type": "code",
   "execution_count": 1,
   "metadata": {},
   "outputs": [],
   "source": [
    "import scikit_build_example as sbe\n",
    "import numpy as np\n",
    "\n",
    "graph = sbe.sine(5.0, 0.5, 1.0, 10000.0, 0.0)\n",
    "\n",
    "sbe.peak(graph, 1.0, 10000.0)\n",
   ]
  },
  {
   "cell_type": "markdown",
   "metadata": {},
   "source": [
    "![Sine peak plot](sine_peak_plot.png)"
   ]
  }
 ],
 "metadata": {
  "kernelspec": {
   "display_name": "phd",
   "language": "python",
   "name": "python3"
  },
  "language_info": {
   "codemirror_mode": {
    "name": "ipython",
    "version": 3
   },
   "file_extension": ".py",
   "mimetype": "text/x-python",
   "name": "python",
   "nbconvert_exporter": "python",
   "pygments_lexer": "ipython3",
   "version": "3.11.7"
  }
 },
 "nbformat": 4,
 "nbformat_minor": 2
}
